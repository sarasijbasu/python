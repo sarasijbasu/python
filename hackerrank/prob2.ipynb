{
 "cells": [
  {
   "cell_type": "code",
   "execution_count": 2,
   "id": "ad808dc2",
   "metadata": {},
   "outputs": [],
   "source": [
    "%%capture \n",
    "'''Problem 11\n",
    "Given the names and grades for each student in a class\n",
    "of N students, store them in a nested list and print the name(s) of any\n",
    "student(s) having the second lowest grade.  \n",
    "Note: If there are multiple students with the\n",
    "second lowest grade, order their names alphabetically and print each name on a new\n",
    "line. \n",
    "Example  records  = [[ “chi”, 20.0]], [“beta”, 50.0], [“alpha”, 50.0]  The\n",
    "ordered list of scores is [20.0, 50.0], so the second lowest score is 50.0. There are\n",
    "two students with that score: [“beta”, “alpha”]. Ordered alphabetically, the names\n",
    "are printed as:   alpha beta Input Format The first line contains an integer, ,\n",
    "the number of students. The  subsequent lines describe each student over  lines. \n",
    "The first line contains a student’s name. The second line contains their grade.\n",
    "Constraints 2 <= N <= 5 There will always be one or more students having the second lowest\n",
    "grade. Output Format Print the name(s) of any student(s) having the second lowest\n",
    "grade in. If there are multiple students, order their names alphabetically and print\n",
    "each one on a new line.  Sample Input 0  5 Harry 37.21 Berry 37.21 Tina 37.2 Akriti\n",
    "41 Harsh 39 Sample Output 0  Berry Harry Explanation 0   There are 5 students in\n",
    "this class whose names and grades are assembled to build the following list: \n",
    "python students = [[‘Harry’, 37.21], [‘Berry’, 37.21], [‘Tina’, 37.2], [‘Akriti’,\n",
    "41], [‘Harsh’, 39]]  The lowest grade of 37.2 belongs to Tina. The second lowest\n",
    "grade of 37.21 belongs to both Harry and Berry, so we order their names\n",
    "alphabetically and print each name on a new line.'''\n"
   ]
  },
  {
   "cell_type": "code",
   "execution_count": null,
   "id": "fbef41cb",
   "metadata": {},
   "outputs": [],
   "source": [
    "if __name__ == '__main__':\n",
    "    l1=[]\n",
    "    l2=[]\n",
    "    l3=[]\n",
    "    result=[]\n",
    "    for _ in range(int(input())):\n",
    "        name = input()\n",
    "        score = float(input())\n",
    "        l1.append(name)\n",
    "        l2.append(score)\n",
    "    d = dict(zip(l1,l2))\n",
    "    l2.sort()\n",
    "    minimum = l2[0]\n",
    "    for item in l2:\n",
    "        if item != minimum:\n",
    "            l3.append(item)\n",
    "            \n",
    "    for key,val in d.items():\n",
    "        if val == l3[0]:\n",
    "            result.append(key)\n",
    "    result.sort()       \n",
    "    for item in result:\n",
    "        print(item)"
   ]
  },
  {
   "cell_type": "code",
   "execution_count": null,
   "id": "b72ac5cf",
   "metadata": {},
   "outputs": [],
   "source": []
  }
 ],
 "metadata": {
  "kernelspec": {
   "display_name": "Python 3 (ipykernel)",
   "language": "python",
   "name": "python3"
  },
  "language_info": {
   "codemirror_mode": {
    "name": "ipython",
    "version": 3
   },
   "file_extension": ".py",
   "mimetype": "text/x-python",
   "name": "python",
   "nbconvert_exporter": "python",
   "pygments_lexer": "ipython3",
   "version": "3.9.12"
  }
 },
 "nbformat": 4,
 "nbformat_minor": 5
}
